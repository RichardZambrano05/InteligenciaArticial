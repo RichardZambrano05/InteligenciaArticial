{
  "nbformat": 4,
  "nbformat_minor": 0,
  "metadata": {
    "colab": {
      "provenance": [],
      "toc_visible": true,
      "authorship_tag": "ABX9TyOtCYN60kxuiNh6d6NnrdLS",
      "include_colab_link": true
    },
    "kernelspec": {
      "name": "python3",
      "display_name": "Python 3"
    },
    "language_info": {
      "name": "python"
    }
  },
  "cells": [
    {
      "cell_type": "markdown",
      "metadata": {
        "id": "view-in-github",
        "colab_type": "text"
      },
      "source": [
        "<a href=\"https://colab.research.google.com/github/RichardZambrano05/InteligenciaArtificial/blob/main/Practica1_IA.ipynb\" target=\"_parent\"><img src=\"https://colab.research.google.com/assets/colab-badge.svg\" alt=\"Open In Colab\"/></a>"
      ]
    },
    {
      "cell_type": "code",
      "execution_count": 2,
      "metadata": {
        "colab": {
          "base_uri": "https://localhost:8080/"
        },
        "id": "EJAE9zFc7q3I",
        "outputId": "860da853-da16-4215-ead8-550872c13660"
      },
      "outputs": [
        {
          "output_type": "stream",
          "name": "stdout",
          "text": [
            "3.10.12 (main, Nov 20 2023, 15:14:05) [GCC 11.4.0]\n"
          ]
        }
      ],
      "source": [
        "import sys\n",
        "print (sys.version)"
      ]
    },
    {
      "cell_type": "code",
      "source": [
        "myNomber= 3\n",
        "myNomberDecimal=3.6\n",
        "state=True"
      ],
      "metadata": {
        "id": "ZrlfsxQICign"
      },
      "execution_count": 5,
      "outputs": []
    },
    {
      "cell_type": "code",
      "source": [
        "print(f'valor entero: {myNomber}')\n",
        "print('valor entero es = ',myNomber)"
      ],
      "metadata": {
        "colab": {
          "base_uri": "https://localhost:8080/"
        },
        "id": "QA64D_hDDTd6",
        "outputId": "85ceab74-05a1-4a17-f50b-f70e63564a52"
      },
      "execution_count": 8,
      "outputs": [
        {
          "output_type": "stream",
          "name": "stdout",
          "text": [
            "valor entero: 3\n",
            "valor entero es =  3\n"
          ]
        }
      ]
    },
    {
      "cell_type": "code",
      "source": [
        "print(f'valor decimal: {myNomberDecimal}')\n",
        "print('valor decimal es = ',myNomberDecimal)"
      ],
      "metadata": {
        "colab": {
          "base_uri": "https://localhost:8080/"
        },
        "id": "9VdUe-uiD4wf",
        "outputId": "59cb256c-dd83-4893-90ac-2bf7b7172122"
      },
      "execution_count": 9,
      "outputs": [
        {
          "output_type": "stream",
          "name": "stdout",
          "text": [
            "valor decimal: 3.6\n",
            "valor decimal es =  3.6\n"
          ]
        }
      ]
    },
    {
      "cell_type": "code",
      "source": [
        "print(f'valor booleano: {state}')\n",
        "print('valor booleano es = ',state)"
      ],
      "metadata": {
        "colab": {
          "base_uri": "https://localhost:8080/"
        },
        "id": "VDagOZbJEFAw",
        "outputId": "ee465c87-4166-4fde-e0ae-e39fcdcb4556"
      },
      "execution_count": 10,
      "outputs": [
        {
          "output_type": "stream",
          "name": "stdout",
          "text": [
            "valor booleano: True\n",
            "valor booleano es =  True\n"
          ]
        }
      ]
    },
    {
      "cell_type": "code",
      "source": [
        "aux1=10\n",
        "aux2=2\n",
        "print('La suma de las varibales aux1 + aux2 =',aux1+aux2)"
      ],
      "metadata": {
        "colab": {
          "base_uri": "https://localhost:8080/"
        },
        "id": "EQnGSJc7ETLH",
        "outputId": "a02eb0b8-6f29-47c3-c2e6-9059391ad111"
      },
      "execution_count": 11,
      "outputs": [
        {
          "output_type": "stream",
          "name": "stdout",
          "text": [
            "La suma de las varibales aux1 + aux2 = 12\n"
          ]
        }
      ]
    },
    {
      "cell_type": "code",
      "source": [
        "aux1=10\n",
        "aux2=2\n",
        "print('La resta de las varibales aux1 - aux2 =',aux1-aux2)"
      ],
      "metadata": {
        "colab": {
          "base_uri": "https://localhost:8080/"
        },
        "id": "tUp-lQl4E754",
        "outputId": "007d4da8-f0e0-4991-db60-a315319e5442"
      },
      "execution_count": 12,
      "outputs": [
        {
          "output_type": "stream",
          "name": "stdout",
          "text": [
            "La resta de las varibales aux1 - aux2 = 8\n"
          ]
        }
      ]
    },
    {
      "cell_type": "code",
      "source": [
        "aux1=10\n",
        "aux2=2\n",
        "print('La multiplicacion de las varibales aux1 * aux2 =',aux1*aux2)"
      ],
      "metadata": {
        "colab": {
          "base_uri": "https://localhost:8080/"
        },
        "id": "hqQAWYa7FBpJ",
        "outputId": "3f4e947c-1870-43b8-e94b-01b92baf85a9"
      },
      "execution_count": 13,
      "outputs": [
        {
          "output_type": "stream",
          "name": "stdout",
          "text": [
            "La multiplicacion de las varibales aux1 * aux2 = 20\n"
          ]
        }
      ]
    },
    {
      "cell_type": "code",
      "source": [
        "aux1=10\n",
        "aux2=2\n",
        "print('La potencia de las varibales aux1 ** aux2 =',aux1**aux2)"
      ],
      "metadata": {
        "colab": {
          "base_uri": "https://localhost:8080/"
        },
        "id": "bRn-EyVUFGay",
        "outputId": "f511fee5-b50e-42ea-e2d8-cb7747337dd2"
      },
      "execution_count": 14,
      "outputs": [
        {
          "output_type": "stream",
          "name": "stdout",
          "text": [
            "La potencia de las varibales aux1 ** aux2 = 100\n"
          ]
        }
      ]
    },
    {
      "cell_type": "code",
      "source": [
        "var1='Hola'\n",
        "var2='Richard'\n",
        "print(var1 + var2)"
      ],
      "metadata": {
        "colab": {
          "base_uri": "https://localhost:8080/"
        },
        "id": "XQinyuh4Fz5H",
        "outputId": "cc5218bf-fb27-4d65-f50b-45969258a168"
      },
      "execution_count": 20,
      "outputs": [
        {
          "output_type": "stream",
          "name": "stdout",
          "text": [
            "HolaRichard\n"
          ]
        }
      ]
    },
    {
      "cell_type": "code",
      "source": [
        "print(3*var1)"
      ],
      "metadata": {
        "colab": {
          "base_uri": "https://localhost:8080/"
        },
        "id": "3eBnokR-GgT_",
        "outputId": "7a8ba51d-b9b2-4a87-807c-027141d93839"
      },
      "execution_count": 21,
      "outputs": [
        {
          "output_type": "stream",
          "name": "stdout",
          "text": [
            "HolaHolaHola\n"
          ]
        }
      ]
    },
    {
      "cell_type": "code",
      "source": [
        "num1=10\n",
        "num2=10.5\n"
      ],
      "metadata": {
        "id": "oTYxH0KNGqMv"
      },
      "execution_count": 22,
      "outputs": []
    },
    {
      "cell_type": "code",
      "source": [
        "print('El tipo de el numero1 es: ',type(num1))"
      ],
      "metadata": {
        "colab": {
          "base_uri": "https://localhost:8080/"
        },
        "id": "uygFWZU9G5Te",
        "outputId": "6df3f98a-670b-4811-ceb0-c017a7775797"
      },
      "execution_count": 24,
      "outputs": [
        {
          "output_type": "stream",
          "name": "stdout",
          "text": [
            "El tipo de el numero1 es:  <class 'int'>\n"
          ]
        }
      ]
    },
    {
      "cell_type": "code",
      "source": [
        "print('El tipo de el numero2 es: ',type(num2))"
      ],
      "metadata": {
        "colab": {
          "base_uri": "https://localhost:8080/"
        },
        "id": "v_sgISYIHKLe",
        "outputId": "11d43573-0eb5-4d69-c1d4-e76aff83fa5f"
      },
      "execution_count": 25,
      "outputs": [
        {
          "output_type": "stream",
          "name": "stdout",
          "text": [
            "El tipo de el numero2 es:  <class 'float'>\n"
          ]
        }
      ]
    }
  ]
}